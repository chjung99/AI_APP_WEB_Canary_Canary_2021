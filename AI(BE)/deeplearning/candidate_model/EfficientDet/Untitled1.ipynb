{
 "cells": [
  {
   "cell_type": "code",
   "execution_count": 1,
   "id": "a584f47e",
   "metadata": {
    "collapsed": true,
    "jupyter": {
     "outputs_hidden": true
    }
   },
   "outputs": [
    {
     "name": "stdout",
     "output_type": "stream",
     "text": [
      "Requirement already satisfied: azureml-core in /anaconda/envs/azureml_py36/lib/python3.6/site-packages (1.34.0)\n",
      "Requirement already satisfied: adal<=1.2.7,>=1.2.0 in /anaconda/envs/azureml_py36/lib/python3.6/site-packages (from azureml-core) (1.2.7)\n",
      "Requirement already satisfied: pyopenssl<21.0.0 in /anaconda/envs/azureml_py36/lib/python3.6/site-packages (from azureml-core) (20.0.1)\n",
      "Requirement already satisfied: requests<3.0.0,>=2.19.1 in /anaconda/envs/azureml_py36/lib/python3.6/site-packages (from azureml-core) (2.26.0)\n",
      "Requirement already satisfied: contextlib2<22.0.0 in /anaconda/envs/azureml_py36/lib/python3.6/site-packages (from azureml-core) (21.6.0)\n",
      "Requirement already satisfied: msrestazure<=0.6.4,>=0.4.33 in /anaconda/envs/azureml_py36/lib/python3.6/site-packages (from azureml-core) (0.6.4)\n",
      "Requirement already satisfied: azure-mgmt-containerregistry>=2.0.0 in /anaconda/envs/azureml_py36/lib/python3.6/site-packages (from azureml-core) (8.1.0)\n",
      "Requirement already satisfied: ruamel.yaml<0.17.5,>=0.15.35 in /anaconda/envs/azureml_py36/lib/python3.6/site-packages (from azureml-core) (0.17.4)\n",
      "Requirement already satisfied: azure-mgmt-resource<15.0.0,>=1.2.1 in /anaconda/envs/azureml_py36/lib/python3.6/site-packages (from azureml-core) (13.0.0)\n",
      "Requirement already satisfied: jsonpickle<3.0.0 in /anaconda/envs/azureml_py36/lib/python3.6/site-packages (from azureml-core) (2.0.0)\n",
      "Requirement already satisfied: azure-mgmt-authorization<1.0.0,>=0.40.0 in /anaconda/envs/azureml_py36/lib/python3.6/site-packages (from azureml-core) (0.61.0)\n",
      "Requirement already satisfied: azure-common<2.0.0,>=1.1.12 in /anaconda/envs/azureml_py36/lib/python3.6/site-packages (from azureml-core) (1.1.27)\n",
      "Requirement already satisfied: backports.tempfile in /anaconda/envs/azureml_py36/lib/python3.6/site-packages (from azureml-core) (1.0)\n",
      "Requirement already satisfied: azure-mgmt-keyvault<10.0.0,>=0.40.0 in /anaconda/envs/azureml_py36/lib/python3.6/site-packages (from azureml-core) (9.1.0)\n",
      "Requirement already satisfied: pathspec<1.0.0 in /anaconda/envs/azureml_py36/lib/python3.6/site-packages (from azureml-core) (0.9.0)\n",
      "Requirement already satisfied: SecretStorage<4.0.0 in /anaconda/envs/azureml_py36/lib/python3.6/site-packages (from azureml-core) (3.3.1)\n",
      "Requirement already satisfied: azure-graphrbac<1.0.0,>=0.40.0 in /anaconda/envs/azureml_py36/lib/python3.6/site-packages (from azureml-core) (0.61.1)\n",
      "Requirement already satisfied: jmespath<1.0.0 in /anaconda/envs/azureml_py36/lib/python3.6/site-packages (from azureml-core) (0.10.0)\n",
      "Requirement already satisfied: urllib3<=1.26.6,>=1.23 in /anaconda/envs/azureml_py36/lib/python3.6/site-packages (from azureml-core) (1.25.11)\n",
      "Requirement already satisfied: cryptography!=1.9,!=2.0.*,!=2.1.*,!=2.2.*,<4.0.0 in /anaconda/envs/azureml_py36/lib/python3.6/site-packages (from azureml-core) (3.4.8)\n",
      "Requirement already satisfied: pytz in /anaconda/envs/azureml_py36/lib/python3.6/site-packages (from azureml-core) (2021.1)\n",
      "Requirement already satisfied: PyJWT<3.0.0 in /anaconda/envs/azureml_py36/lib/python3.6/site-packages (from azureml-core) (2.1.0)\n",
      "Requirement already satisfied: ndg-httpsclient<=0.5.1 in /anaconda/envs/azureml_py36/lib/python3.6/site-packages (from azureml-core) (0.5.1)\n",
      "Requirement already satisfied: msrest<1.0.0,>=0.5.1 in /anaconda/envs/azureml_py36/lib/python3.6/site-packages (from azureml-core) (0.6.21)\n",
      "Requirement already satisfied: docker<6.0.0 in /anaconda/envs/azureml_py36/lib/python3.6/site-packages (from azureml-core) (5.0.2)\n",
      "Requirement already satisfied: azure-mgmt-storage<16.0.0,>=1.5.0 in /anaconda/envs/azureml_py36/lib/python3.6/site-packages (from azureml-core) (11.2.0)\n",
      "Requirement already satisfied: python-dateutil<3.0.0,>=2.7.3 in /anaconda/envs/azureml_py36/lib/python3.6/site-packages (from azureml-core) (2.8.2)\n",
      "Requirement already satisfied: azure-mgmt-core<2.0.0,>=1.2.0 in /anaconda/envs/azureml_py36/lib/python3.6/site-packages (from azure-mgmt-containerregistry>=2.0.0->azureml-core) (1.3.0)\n",
      "Requirement already satisfied: azure-core<2.0.0,>=1.15.0 in /anaconda/envs/azureml_py36/lib/python3.6/site-packages (from azure-mgmt-core<2.0.0,>=1.2.0->azure-mgmt-containerregistry>=2.0.0->azureml-core) (1.18.0)\n",
      "Requirement already satisfied: six>=1.11.0 in /anaconda/envs/azureml_py36/lib/python3.6/site-packages (from azure-core<2.0.0,>=1.15.0->azure-mgmt-core<2.0.0,>=1.2.0->azure-mgmt-containerregistry>=2.0.0->azureml-core) (1.16.0)\n",
      "Requirement already satisfied: cffi>=1.12 in /anaconda/envs/azureml_py36/lib/python3.6/site-packages (from cryptography!=1.9,!=2.0.*,!=2.1.*,!=2.2.*,<4.0.0->azureml-core) (1.14.6)\n",
      "Requirement already satisfied: pycparser in /anaconda/envs/azureml_py36/lib/python3.6/site-packages (from cffi>=1.12->cryptography!=1.9,!=2.0.*,!=2.1.*,!=2.2.*,<4.0.0->azureml-core) (2.20)\n",
      "Requirement already satisfied: websocket-client>=0.32.0 in /anaconda/envs/azureml_py36/lib/python3.6/site-packages (from docker<6.0.0->azureml-core) (1.2.1)\n",
      "Requirement already satisfied: importlib-metadata in /anaconda/envs/azureml_py36/lib/python3.6/site-packages (from jsonpickle<3.0.0->azureml-core) (4.8.1)\n",
      "Requirement already satisfied: isodate>=0.6.0 in /anaconda/envs/azureml_py36/lib/python3.6/site-packages (from msrest<1.0.0,>=0.5.1->azureml-core) (0.6.0)\n",
      "Requirement already satisfied: requests-oauthlib>=0.5.0 in /anaconda/envs/azureml_py36/lib/python3.6/site-packages (from msrest<1.0.0,>=0.5.1->azureml-core) (1.3.0)\n",
      "Requirement already satisfied: certifi>=2017.4.17 in /anaconda/envs/azureml_py36/lib/python3.6/site-packages (from msrest<1.0.0,>=0.5.1->azureml-core) (2021.5.30)\n",
      "Requirement already satisfied: pyasn1>=0.1.1 in /anaconda/envs/azureml_py36/lib/python3.6/site-packages (from ndg-httpsclient<=0.5.1->azureml-core) (0.4.8)\n",
      "Requirement already satisfied: charset-normalizer~=2.0.0 in /anaconda/envs/azureml_py36/lib/python3.6/site-packages (from requests<3.0.0,>=2.19.1->azureml-core) (2.0.4)\n",
      "Requirement already satisfied: idna<4,>=2.5 in /anaconda/envs/azureml_py36/lib/python3.6/site-packages (from requests<3.0.0,>=2.19.1->azureml-core) (3.2)\n",
      "Requirement already satisfied: oauthlib>=3.0.0 in /anaconda/envs/azureml_py36/lib/python3.6/site-packages (from requests-oauthlib>=0.5.0->msrest<1.0.0,>=0.5.1->azureml-core) (3.1.1)\n",
      "Requirement already satisfied: ruamel.yaml.clib>=0.1.2 in /anaconda/envs/azureml_py36/lib/python3.6/site-packages (from ruamel.yaml<0.17.5,>=0.15.35->azureml-core) (0.2.6)\n",
      "Requirement already satisfied: jeepney>=0.6 in /anaconda/envs/azureml_py36/lib/python3.6/site-packages (from SecretStorage<4.0.0->azureml-core) (0.7.1)\n",
      "Requirement already satisfied: backports.weakref in /anaconda/envs/azureml_py36/lib/python3.6/site-packages (from backports.tempfile->azureml-core) (1.0.post1)\n",
      "Requirement already satisfied: zipp>=0.5 in /anaconda/envs/azureml_py36/lib/python3.6/site-packages (from importlib-metadata->jsonpickle<3.0.0->azureml-core) (3.5.0)\n",
      "Requirement already satisfied: typing-extensions>=3.6.4 in /anaconda/envs/azureml_py36/lib/python3.6/site-packages (from importlib-metadata->jsonpickle<3.0.0->azureml-core) (3.10.0.2)\n"
     ]
    }
   ],
   "source": [
    "!pip install --upgrade azureml-core"
   ]
  },
  {
   "cell_type": "code",
   "execution_count": 2,
   "id": "fc8388ea",
   "metadata": {},
   "outputs": [
    {
     "name": "stdout",
     "output_type": "stream",
     "text": [
      "/mnt/batch/tasks/shared/LS_root/mounts/clusters/cksgh/code/Users/cksgh1168/Yet-Another-EfficientDet-Pytorch/logs/canary/tensorboard/20211001-131858\n"
     ]
    },
    {
     "ename": "NameError",
     "evalue": "name 'root_run' is not defined",
     "output_type": "error",
     "traceback": [
      "\u001b[0;31m---------------------------------------------------------------------------\u001b[0m",
      "\u001b[0;31mNameError\u001b[0m                                 Traceback (most recent call last)",
      "\u001b[0;32m<ipython-input-2-ba100ef92ec1>\u001b[0m in \u001b[0;36m<module>\u001b[0;34m\u001b[0m\n\u001b[1;32m     11\u001b[0m \u001b[0;34m\u001b[0m\u001b[0m\n\u001b[1;32m     12\u001b[0m \u001b[0;31m# export run history for the project\u001b[0m\u001b[0;34m\u001b[0m\u001b[0;34m\u001b[0m\u001b[0;34m\u001b[0m\u001b[0m\n\u001b[0;32m---> 13\u001b[0;31m \u001b[0mexport_to_tensorboard\u001b[0m\u001b[0;34m(\u001b[0m\u001b[0mroot_run\u001b[0m\u001b[0;34m,\u001b[0m \u001b[0mlogdir\u001b[0m\u001b[0;34m)\u001b[0m\u001b[0;34m\u001b[0m\u001b[0;34m\u001b[0m\u001b[0m\n\u001b[0m\u001b[1;32m     14\u001b[0m \u001b[0;34m\u001b[0m\u001b[0m\n\u001b[1;32m     15\u001b[0m \u001b[0mroot_run\u001b[0m\u001b[0;34m.\u001b[0m\u001b[0mcomplete\u001b[0m\u001b[0;34m(\u001b[0m\u001b[0;34m)\u001b[0m\u001b[0;34m\u001b[0m\u001b[0;34m\u001b[0m\u001b[0m\n",
      "\u001b[0;31mNameError\u001b[0m: name 'root_run' is not defined"
     ]
    }
   ],
   "source": [
    "from azureml.tensorboard.export import export_to_tensorboard\n",
    "import os\n",
    "\n",
    "logdir = '/mnt/batch/tasks/shared/LS_root/mounts/clusters/cksgh/code/Users/cksgh1168/Yet-Another-EfficientDet-Pytorch/logs/canary/tensorboard/20211001-131858'\n",
    "log_path = os.path.join(os.getcwd(), logdir)\n",
    "try:\n",
    "    os.stat(log_path)\n",
    "except os.error:\n",
    "    os.mkdir(log_path)\n",
    "print(logdir)\n",
    "\n",
    "# export run history for the project\n",
    "export_to_tensorboard(root_run, logdir)\n",
    "\n",
    "root_run.complete()"
   ]
  },
  {
   "cell_type": "code",
   "execution_count": null,
   "id": "4378addd",
   "metadata": {},
   "outputs": [],
   "source": [
    "from azureml.core import Workspace, Experiment\n",
    "import azureml.core\n",
    "\n",
    "# set experiment name and run name\n",
    "ws = Workspace.from_config()\n",
    "experiment_name = 'export-to-tensorboard'\n",
    "exp = Experiment(ws, experiment_name)\n",
    "root_run = exp.start_logging()"
   ]
  },
  {
   "cell_type": "code",
   "execution_count": null,
   "id": "b1946b12",
   "metadata": {},
   "outputs": [],
   "source": [
    "from sklearn.datasets import load_diabetes\n",
    "from sklearn.linear_model import Ridge\n",
    "from sklearn.metrics import mean_squared_error\n",
    "from sklearn.model_selection import train_test_split\n",
    "X, y = load_diabetes(return_X_y=True)\n",
    "columns = ['age', 'gender', 'bmi', 'bp', 's1', 's2', 's3', 's4', 's5', 's6']\n",
    "x_train, x_test, y_train, y_test = train_test_split(X, y, test_size=0.2, random_state=0)\n",
    "data = {\n",
    "    \"train\":{\"x\":x_train, \"y\":y_train},        \n",
    "    \"test\":{\"x\":x_test, \"y\":y_test}\n",
    "}"
   ]
  },
  {
   "cell_type": "code",
   "execution_count": null,
   "id": "9c1123a9",
   "metadata": {},
   "outputs": [],
   "source": [
    "from tqdm import tqdm\n",
    "alphas = [.1, .2, .3, .4, .5, .6 , .7]\n",
    "# try a bunch of alpha values in a Linear Regression (aka Ridge regression) mode\n",
    "for alpha in tqdm(alphas):\n",
    "  # create child runs and fit lines for the resulting models\n",
    "  with root_run.child_run(\"alpha\" + str(alpha)) as run:\n",
    " \n",
    "   reg = Ridge(alpha=alpha)\n",
    "   reg.fit(data[\"train\"][\"x\"], data[\"train\"][\"y\"])    \n",
    " \n",
    "   preds = reg.predict(data[\"test\"][\"x\"])\n",
    "   mse = mean_squared_error(preds, data[\"test\"][\"y\"])\n",
    "   # End train and eval\n",
    "\n",
    "# log alpha, mean_squared_error and feature names in run history\n",
    "   root_run.log(\"alpha\", alpha)\n",
    "   root_run.log(\"mse\", mse)"
   ]
  }
 ],
 "metadata": {
  "kernelspec": {
   "display_name": "Python 3.6 - AzureML",
   "language": "python",
   "name": "python3-azureml"
  },
  "language_info": {
   "codemirror_mode": {
    "name": "ipython",
    "version": 3
   },
   "file_extension": ".py",
   "mimetype": "text/x-python",
   "name": "python",
   "nbconvert_exporter": "python",
   "pygments_lexer": "ipython3",
   "version": "3.6.9"
  }
 },
 "nbformat": 4,
 "nbformat_minor": 5
}
