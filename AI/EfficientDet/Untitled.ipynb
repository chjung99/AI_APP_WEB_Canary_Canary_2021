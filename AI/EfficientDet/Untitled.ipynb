{
 "cells": [
  {
   "cell_type": "code",
   "execution_count": 18,
   "id": "2b3616ed",
   "metadata": {},
   "outputs": [
    {
     "name": "stdout",
     "output_type": "stream",
     "text": [
      "Traceback (most recent call last):\n",
      "  File \"efficientdet_test.py\", line 53, in <module>\n",
      "    ori_imgs, framed_imgs, framed_metas = preprocess(img_path, max_size=input_size)\n",
      "  File \"/mnt/batch/tasks/shared/LS_root/mounts/clusters/cksgh/code/Users/cksgh1168/Yet-Another-EfficientDet-Pytorch/utils/utils.py\", line 71, in preprocess\n",
      "    normalized_imgs = [(img[..., ::-1] / 255 - mean) / std for img in ori_imgs]\n",
      "  File \"/mnt/batch/tasks/shared/LS_root/mounts/clusters/cksgh/code/Users/cksgh1168/Yet-Another-EfficientDet-Pytorch/utils/utils.py\", line 71, in <listcomp>\n",
      "    normalized_imgs = [(img[..., ::-1] / 255 - mean) / std for img in ori_imgs]\n",
      "TypeError: 'NoneType' object is not subscriptable\n"
     ]
    }
   ],
   "source": [
    "!python efficientdet_test.py"
   ]
  },
  {
   "cell_type": "code",
   "execution_count": 41,
   "id": "e8a130ae",
   "metadata": {},
   "outputs": [
    {
     "data": {
      "text/plain": [
       "'0.9.1+cu102'"
      ]
     },
     "execution_count": 41,
     "metadata": {},
     "output_type": "execute_result"
    }
   ],
   "source": [
    "import torchvision\n",
    "torchvision.__version__"
   ]
  },
  {
   "cell_type": "code",
   "execution_count": 40,
   "id": "b914dbd6",
   "metadata": {},
   "outputs": [
    {
     "name": "stdout",
     "output_type": "stream",
     "text": [
      "Requirement already satisfied: torchvision==0.10.0 in /anaconda/envs/azureml_py36/lib/python3.6/site-packages (0.10.0)\n",
      "Requirement already satisfied: pillow>=5.3.0 in /anaconda/envs/azureml_py36/lib/python3.6/site-packages (from torchvision==0.10.0) (8.0.0)\n",
      "Requirement already satisfied: torch==1.9.0 in /anaconda/envs/azureml_py36/lib/python3.6/site-packages (from torchvision==0.10.0) (1.9.0)\n",
      "Requirement already satisfied: numpy in /anaconda/envs/azureml_py36/lib/python3.6/site-packages (from torchvision==0.10.0) (1.16.0)\n",
      "Requirement already satisfied: dataclasses in /anaconda/envs/azureml_py36/lib/python3.6/site-packages (from torch==1.9.0->torchvision==0.10.0) (0.8)\n",
      "Requirement already satisfied: typing-extensions in /anaconda/envs/azureml_py36/lib/python3.6/site-packages (from torch==1.9.0->torchvision==0.10.0) (3.10.0.2)\n"
     ]
    }
   ],
   "source": [
    "!pip3 install torchvision==0.10.0"
   ]
  },
  {
   "cell_type": "code",
   "execution_count": 35,
   "id": "6c09f7f8",
   "metadata": {},
   "outputs": [
    {
     "name": "stdout",
     "output_type": "stream",
     "text": [
      "\u001b[33mDEPRECATION: Python 2.7 reached the end of its life on January 1st, 2020. Please upgrade your Python as Python 2.7 is no longer maintained. pip 21.0 will drop support for Python 2.7 in January 2021. More details about Python 2 support in pip can be found at https://pip.pypa.io/en/latest/development/release-process/#python-2-support pip 21.0 will remove support for this functionality.\u001b[0m\n",
      "\u001b[33mWARNING: The directory '/home/azureuser/.cache/pip' or its parent directory is not owned or is not writable by the current user. The cache has been disabled. Check the permissions and owner of that directory. If executing pip with sudo, you may want sudo's -H flag.\u001b[0m\n",
      "Looking in links: https://download.pytorch.org/whl/torch_stable.html\n",
      "\u001b[31mERROR: Could not find a version that satisfies the requirement torchvision==0.10.0 (from versions: 0.1.6, 0.1.7, 0.1.8, 0.1.9, 0.2.0, 0.2.1, 0.2.2, 0.2.2.post2, 0.2.2.post3, 0.3.0, 0.4.0, 0.4.0+cpu, 0.4.0+cu92, 0.4.1, 0.4.1+cpu, 0.4.1+cu100, 0.4.1+cu92, 0.4.2, 0.4.2+cpu, 0.4.2+cu100, 0.4.2+cu92, 0.5.0, 0.5.0+cpu, 0.5.0+cu100, 0.5.0+cu92)\u001b[0m\n",
      "\u001b[31mERROR: No matching distribution found for torchvision==0.10.0\u001b[0m\n"
     ]
    }
   ],
   "source": [
    " !sudo pip install torchvision==0.10.0 -f https://download.pytorch.org/whl/torch_stable.html "
   ]
  },
  {
   "cell_type": "code",
   "execution_count": 38,
   "id": "996719d7",
   "metadata": {},
   "outputs": [
    {
     "data": {
      "text/plain": [
       "'0.9.1+cu102'"
      ]
     },
     "execution_count": 38,
     "metadata": {},
     "output_type": "execute_result"
    }
   ],
   "source": [
    "import torchvision\n",
    "torchvision.__version__"
   ]
  },
  {
   "cell_type": "code",
   "execution_count": null,
   "id": "4d7fb32c",
   "metadata": {},
   "outputs": [],
   "source": []
  },
  {
   "cell_type": "code",
   "execution_count": 30,
   "id": "2e27a49a",
   "metadata": {},
   "outputs": [
    {
     "name": "stdout",
     "output_type": "stream",
     "text": [
      "Reading package lists... Done\n",
      "Building dependency tree       \n",
      "Reading state information... Done\n",
      "The following packages were automatically installed and are no longer required:\n",
      "  cmake-data gyp javascript-common libarchive13 libblas-dev libc-ares2\n",
      "  libhttp-parser2.7.1 libjs-async libjs-inherits libjs-jquery libjs-node-uuid\n",
      "  libjs-underscore libjsoncpp1 liblapack-dev liblzma-dev libncurses5-dev\n",
      "  libpcre2-16-0 libpcre2-32-0 libpcre2-dev libpcre2-posix0 libreadline-dev\n",
      "  librhash0 libtinfo-dev libuv1-dev linux-headers-4.15.0-154 node-abbrev\n",
      "  node-ansi node-ansi-color-table node-archy node-async node-balanced-match\n",
      "  node-block-stream node-brace-expansion node-builtin-modules\n",
      "  node-combined-stream node-concat-map node-cookie-jar node-delayed-stream\n",
      "  node-forever-agent node-form-data node-fs.realpath node-fstream\n",
      "  node-fstream-ignore node-github-url-from-git node-glob node-graceful-fs\n",
      "  node-hosted-git-info node-inflight node-inherits node-ini\n",
      "  node-is-builtin-module node-isexe node-json-stringify-safe node-lockfile\n",
      "  node-lru-cache node-mime node-minimatch node-mkdirp node-mute-stream\n",
      "  node-node-uuid node-nopt node-normalize-package-data node-npmlog node-once\n",
      "  node-osenv node-path-is-absolute node-pseudomap node-qs node-read\n",
      "  node-read-package-json node-request node-retry node-rimraf node-semver\n",
      "  node-sha node-slide node-spdx-correct node-spdx-expression-parse\n",
      "  node-spdx-license-ids node-tar node-tunnel-agent node-underscore\n",
      "  node-validate-npm-package-license node-which node-wrappy node-yallist\n",
      "  nodejs-doc\n",
      "Use 'sudo apt autoremove' to remove them.\n",
      "The following additional packages will be installed:\n",
      "  libpython-all-dev python-all python-all-dev python-asn1crypto\n",
      "  python-cffi-backend python-cryptography python-dbus python-enum34 python-gi\n",
      "  python-idna python-ipaddress python-keyring python-keyrings.alt\n",
      "  python-pip-whl python-secretstorage python-setuptools python-wheel\n",
      "  python-xdg\n",
      "Suggested packages:\n",
      "  python-cryptography-doc python-cryptography-vectors python-dbus-dbg\n",
      "  python-dbus-doc python-enum34-doc python-gi-cairo gnome-keyring\n",
      "  libkf5wallet-bin gir1.2-gnomekeyring-1.0 python-fs python-gdata\n",
      "  python-keyczar python-secretstorage-doc python-setuptools-doc\n",
      "The following NEW packages will be installed:\n",
      "  libpython-all-dev python-all python-all-dev python-asn1crypto\n",
      "  python-cffi-backend python-cryptography python-dbus python-enum34 python-gi\n",
      "  python-idna python-ipaddress python-keyring python-keyrings.alt python-pip\n",
      "  python-pip-whl python-secretstorage python-setuptools python-wheel\n",
      "  python-xdg\n",
      "0 upgraded, 19 newly installed, 0 to remove and 16 not upgraded.\n",
      "Need to get 3047 kB of archives.\n",
      "After this operation, 8740 kB of additional disk space will be used.\n",
      "Do you want to continue? [Y/n] ^C\n"
     ]
    }
   ],
   "source": [
    "!sudo apt-get install python-pip"
   ]
  },
  {
   "cell_type": "code",
   "execution_count": null,
   "id": "6ed68fe3",
   "metadata": {},
   "outputs": [],
   "source": []
  }
 ],
 "metadata": {
  "kernelspec": {
   "display_name": "Python 3.6 - AzureML",
   "language": "python",
   "name": "python3-azureml"
  },
  "language_info": {
   "codemirror_mode": {
    "name": "ipython",
    "version": 3
   },
   "file_extension": ".py",
   "mimetype": "text/x-python",
   "name": "python",
   "nbconvert_exporter": "python",
   "pygments_lexer": "ipython3",
   "version": "3.6.9"
  }
 },
 "nbformat": 4,
 "nbformat_minor": 5
}
